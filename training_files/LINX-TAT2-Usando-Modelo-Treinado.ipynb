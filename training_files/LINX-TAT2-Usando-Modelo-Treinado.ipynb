{
 "cells": [
  {
   "cell_type": "code",
   "execution_count": 1,
   "metadata": {},
   "outputs": [
    {
     "name": "stdout",
     "output_type": "stream",
     "text": [
      "Versão da Linguagem Python Usada Neste Jupyter Notebook: 3.7.13\n"
     ]
    }
   ],
   "source": [
    "# Versão da Linguagem Python\n",
    "from platform import python_version\n",
    "print('Versão da Linguagem Python Usada Neste Jupyter Notebook:', python_version())"
   ]
  },
  {
   "cell_type": "markdown",
   "metadata": {},
   "source": [
    "# Relambrando um pouco da Análise"
   ]
  },
  {
   "cell_type": "code",
   "execution_count": 2,
   "metadata": {},
   "outputs": [],
   "source": [
    "# Importando os pacotes \n",
    "import numpy as np\n",
    "import pandas as pd\n",
    "import matplotlib as mat\n",
    "import matplotlib.pyplot as plt\n",
    "import colorsys\n",
    "plt.style.use('seaborn-talk')\n",
    "import warnings\n",
    "warnings.filterwarnings(\"ignore\")\n",
    "%matplotlib inline"
   ]
  },
  {
   "cell_type": "code",
   "execution_count": 3,
   "metadata": {},
   "outputs": [],
   "source": [
    "# Carregando o dataset\n",
    "#df = pd.read_excel('TAT-SCRIPTS-HISTORICO-v3-2-QUINZENAL.xlsx', index_col=0)\n",
    "df = pd.read_excel('TAT-SCRIPTS-HISTORICO-v3-4-QUINZENAL.xlsx', index_col=0)\n",
    "#print(df.head())"
   ]
  },
  {
   "cell_type": "code",
   "execution_count": 4,
   "metadata": {},
   "outputs": [
    {
     "name": "stdout",
     "output_type": "stream",
     "text": [
      "          semana  scripts_feitos_no_periodo    pessoas   acumulado  \\\n",
      "count  12.000000                  12.000000  12.000000   12.000000   \n",
      "mean    6.500000                  29.083333   1.583333  139.166667   \n",
      "std     3.605551                  20.002083   0.514929  116.093875   \n",
      "min     1.000000                   0.000000   1.000000    0.000000   \n",
      "25%     3.750000                  13.500000   1.000000   40.500000   \n",
      "50%     6.500000                  23.500000   2.000000  124.000000   \n",
      "75%     9.250000                  45.250000   2.000000  230.000000   \n",
      "max    12.000000                  66.000000   2.000000  338.000000   \n",
      "\n",
      "       media_script_semanal_por_pessoa  Unnamed: 7  Unnamed: 8  Unnamed: 9  \\\n",
      "count                        12.000000         0.0         0.0         0.0   \n",
      "mean                         11.375000         NaN         NaN         NaN   \n",
      "std                           7.888787         NaN         NaN         NaN   \n",
      "min                           0.000000         NaN         NaN         NaN   \n",
      "25%                           4.250000         NaN         NaN         NaN   \n",
      "50%                          11.250000         NaN         NaN         NaN   \n",
      "75%                          17.125000         NaN         NaN         NaN   \n",
      "max                          24.000000         NaN         NaN         NaN   \n",
      "\n",
      "       Unnamed: 10  \n",
      "count          0.0  \n",
      "mean           NaN  \n",
      "std            NaN  \n",
      "min            NaN  \n",
      "25%            NaN  \n",
      "50%            NaN  \n",
      "75%            NaN  \n",
      "max            NaN  \n"
     ]
    }
   ],
   "source": [
    "# Lista todas as colunas e um pouco do dataset\n",
    "print(df.describe())"
   ]
  },
  {
   "cell_type": "code",
   "execution_count": 5,
   "metadata": {},
   "outputs": [
    {
     "data": {
      "text/html": [
       "<div>\n",
       "<style scoped>\n",
       "    .dataframe tbody tr th:only-of-type {\n",
       "        vertical-align: middle;\n",
       "    }\n",
       "\n",
       "    .dataframe tbody tr th {\n",
       "        vertical-align: top;\n",
       "    }\n",
       "\n",
       "    .dataframe thead th {\n",
       "        text-align: right;\n",
       "    }\n",
       "</style>\n",
       "<table border=\"1\" class=\"dataframe\">\n",
       "  <thead>\n",
       "    <tr style=\"text-align: right;\">\n",
       "      <th></th>\n",
       "      <th>semana</th>\n",
       "      <th>scripts_feitos_no_periodo</th>\n",
       "      <th>pessoas</th>\n",
       "      <th>data</th>\n",
       "      <th>acumulado</th>\n",
       "      <th>media_script_semanal_por_pessoa</th>\n",
       "      <th>Unnamed: 7</th>\n",
       "      <th>Unnamed: 8</th>\n",
       "      <th>Unnamed: 9</th>\n",
       "      <th>Unnamed: 10</th>\n",
       "    </tr>\n",
       "    <tr>\n",
       "      <th>index</th>\n",
       "      <th></th>\n",
       "      <th></th>\n",
       "      <th></th>\n",
       "      <th></th>\n",
       "      <th></th>\n",
       "      <th></th>\n",
       "      <th></th>\n",
       "      <th></th>\n",
       "      <th></th>\n",
       "      <th></th>\n",
       "    </tr>\n",
       "  </thead>\n",
       "  <tbody>\n",
       "    <tr>\n",
       "      <th>1</th>\n",
       "      <td>1</td>\n",
       "      <td>0</td>\n",
       "      <td>1</td>\n",
       "      <td>2022-04-01</td>\n",
       "      <td>0</td>\n",
       "      <td>0.0</td>\n",
       "      <td>NaN</td>\n",
       "      <td>NaN</td>\n",
       "      <td>NaN</td>\n",
       "      <td>NaN</td>\n",
       "    </tr>\n",
       "    <tr>\n",
       "      <th>2</th>\n",
       "      <td>2</td>\n",
       "      <td>11</td>\n",
       "      <td>1</td>\n",
       "      <td>2022-05-25</td>\n",
       "      <td>11</td>\n",
       "      <td>3.0</td>\n",
       "      <td>NaN</td>\n",
       "      <td>NaN</td>\n",
       "      <td>NaN</td>\n",
       "      <td>NaN</td>\n",
       "    </tr>\n",
       "    <tr>\n",
       "      <th>3</th>\n",
       "      <td>3</td>\n",
       "      <td>12</td>\n",
       "      <td>1</td>\n",
       "      <td>2022-05-30</td>\n",
       "      <td>12</td>\n",
       "      <td>8.0</td>\n",
       "      <td>NaN</td>\n",
       "      <td>NaN</td>\n",
       "      <td>NaN</td>\n",
       "      <td>NaN</td>\n",
       "    </tr>\n",
       "    <tr>\n",
       "      <th>4</th>\n",
       "      <td>4</td>\n",
       "      <td>38</td>\n",
       "      <td>1</td>\n",
       "      <td>2022-06-15</td>\n",
       "      <td>50</td>\n",
       "      <td>19.0</td>\n",
       "      <td>NaN</td>\n",
       "      <td>NaN</td>\n",
       "      <td>NaN</td>\n",
       "      <td>NaN</td>\n",
       "    </tr>\n",
       "    <tr>\n",
       "      <th>5</th>\n",
       "      <td>5</td>\n",
       "      <td>27</td>\n",
       "      <td>1</td>\n",
       "      <td>2022-06-30</td>\n",
       "      <td>77</td>\n",
       "      <td>13.5</td>\n",
       "      <td>NaN</td>\n",
       "      <td>NaN</td>\n",
       "      <td>NaN</td>\n",
       "      <td>NaN</td>\n",
       "    </tr>\n",
       "    <tr>\n",
       "      <th>6</th>\n",
       "      <td>6</td>\n",
       "      <td>14</td>\n",
       "      <td>2</td>\n",
       "      <td>2022-07-18</td>\n",
       "      <td>91</td>\n",
       "      <td>3.5</td>\n",
       "      <td>NaN</td>\n",
       "      <td>NaN</td>\n",
       "      <td>NaN</td>\n",
       "      <td>NaN</td>\n",
       "    </tr>\n",
       "    <tr>\n",
       "      <th>7</th>\n",
       "      <td>7</td>\n",
       "      <td>66</td>\n",
       "      <td>2</td>\n",
       "      <td>2022-07-30</td>\n",
       "      <td>157</td>\n",
       "      <td>16.5</td>\n",
       "      <td>NaN</td>\n",
       "      <td>NaN</td>\n",
       "      <td>NaN</td>\n",
       "      <td>NaN</td>\n",
       "    </tr>\n",
       "    <tr>\n",
       "      <th>8</th>\n",
       "      <td>8</td>\n",
       "      <td>18</td>\n",
       "      <td>2</td>\n",
       "      <td>2022-08-14</td>\n",
       "      <td>175</td>\n",
       "      <td>4.5</td>\n",
       "      <td>NaN</td>\n",
       "      <td>NaN</td>\n",
       "      <td>NaN</td>\n",
       "      <td>NaN</td>\n",
       "    </tr>\n",
       "    <tr>\n",
       "      <th>9</th>\n",
       "      <td>9</td>\n",
       "      <td>50</td>\n",
       "      <td>2</td>\n",
       "      <td>2022-08-30</td>\n",
       "      <td>225</td>\n",
       "      <td>12.5</td>\n",
       "      <td>NaN</td>\n",
       "      <td>NaN</td>\n",
       "      <td>NaN</td>\n",
       "      <td>NaN</td>\n",
       "    </tr>\n",
       "    <tr>\n",
       "      <th>10</th>\n",
       "      <td>10</td>\n",
       "      <td>20</td>\n",
       "      <td>2</td>\n",
       "      <td>2022-09-16</td>\n",
       "      <td>245</td>\n",
       "      <td>10.0</td>\n",
       "      <td>NaN</td>\n",
       "      <td>NaN</td>\n",
       "      <td>NaN</td>\n",
       "      <td>NaN</td>\n",
       "    </tr>\n",
       "    <tr>\n",
       "      <th>11</th>\n",
       "      <td>11</td>\n",
       "      <td>44</td>\n",
       "      <td>2</td>\n",
       "      <td>2022-09-30</td>\n",
       "      <td>289</td>\n",
       "      <td>22.0</td>\n",
       "      <td>NaN</td>\n",
       "      <td>NaN</td>\n",
       "      <td>NaN</td>\n",
       "      <td>NaN</td>\n",
       "    </tr>\n",
       "    <tr>\n",
       "      <th>12</th>\n",
       "      <td>12</td>\n",
       "      <td>49</td>\n",
       "      <td>2</td>\n",
       "      <td>2022-10-14</td>\n",
       "      <td>338</td>\n",
       "      <td>24.0</td>\n",
       "      <td>NaN</td>\n",
       "      <td>NaN</td>\n",
       "      <td>NaN</td>\n",
       "      <td>NaN</td>\n",
       "    </tr>\n",
       "  </tbody>\n",
       "</table>\n",
       "</div>"
      ],
      "text/plain": [
       "       semana  scripts_feitos_no_periodo  pessoas       data  acumulado  \\\n",
       "index                                                                     \n",
       "1           1                          0        1 2022-04-01          0   \n",
       "2           2                         11        1 2022-05-25         11   \n",
       "3           3                         12        1 2022-05-30         12   \n",
       "4           4                         38        1 2022-06-15         50   \n",
       "5           5                         27        1 2022-06-30         77   \n",
       "6           6                         14        2 2022-07-18         91   \n",
       "7           7                         66        2 2022-07-30        157   \n",
       "8           8                         18        2 2022-08-14        175   \n",
       "9           9                         50        2 2022-08-30        225   \n",
       "10         10                         20        2 2022-09-16        245   \n",
       "11         11                         44        2 2022-09-30        289   \n",
       "12         12                         49        2 2022-10-14        338   \n",
       "\n",
       "       media_script_semanal_por_pessoa  Unnamed: 7  Unnamed: 8  Unnamed: 9  \\\n",
       "index                                                                        \n",
       "1                                  0.0         NaN         NaN         NaN   \n",
       "2                                  3.0         NaN         NaN         NaN   \n",
       "3                                  8.0         NaN         NaN         NaN   \n",
       "4                                 19.0         NaN         NaN         NaN   \n",
       "5                                 13.5         NaN         NaN         NaN   \n",
       "6                                  3.5         NaN         NaN         NaN   \n",
       "7                                 16.5         NaN         NaN         NaN   \n",
       "8                                  4.5         NaN         NaN         NaN   \n",
       "9                                 12.5         NaN         NaN         NaN   \n",
       "10                                10.0         NaN         NaN         NaN   \n",
       "11                                22.0         NaN         NaN         NaN   \n",
       "12                                24.0         NaN         NaN         NaN   \n",
       "\n",
       "       Unnamed: 10  \n",
       "index               \n",
       "1              NaN  \n",
       "2              NaN  \n",
       "3              NaN  \n",
       "4              NaN  \n",
       "5              NaN  \n",
       "6              NaN  \n",
       "7              NaN  \n",
       "8              NaN  \n",
       "9              NaN  \n",
       "10             NaN  \n",
       "11             NaN  \n",
       "12             NaN  "
      ]
     },
     "execution_count": 5,
     "metadata": {},
     "output_type": "execute_result"
    }
   ],
   "source": [
    "df"
   ]
  },
  {
   "cell_type": "code",
   "execution_count": 6,
   "metadata": {},
   "outputs": [
    {
     "data": {
      "text/plain": [
       "semana                             0.986664\n",
       "scripts_feitos_no_periodo          0.622035\n",
       "pessoas                            0.830063\n",
       "acumulado                          1.000000\n",
       "media_script_semanal_por_pessoa    0.650297\n",
       "Unnamed: 7                              NaN\n",
       "Unnamed: 8                              NaN\n",
       "Unnamed: 9                              NaN\n",
       "Unnamed: 10                             NaN\n",
       "Name: acumulado, dtype: float64"
      ]
     },
     "execution_count": 6,
     "metadata": {},
     "output_type": "execute_result"
    }
   ],
   "source": [
    "df.corr()['acumulado']"
   ]
  },
  {
   "cell_type": "code",
   "execution_count": 7,
   "metadata": {},
   "outputs": [],
   "source": [
    "acumulado = df['acumulado']"
   ]
  },
  {
   "cell_type": "code",
   "execution_count": 8,
   "metadata": {},
   "outputs": [],
   "source": [
    "#df = df.drop(['data', 'Unnamed: 7', 'Unnamed: 8', 'Unnamed: 9', 'Unnamed: 10'], axis=1)\n",
    "df = df.drop(['data'], axis=1)"
   ]
  },
  {
   "cell_type": "code",
   "execution_count": 9,
   "metadata": {},
   "outputs": [],
   "source": [
    "df['acumulado'] = acumulado"
   ]
  },
  {
   "cell_type": "code",
   "execution_count": 10,
   "metadata": {
    "scrolled": true
   },
   "outputs": [
    {
     "data": {
      "text/html": [
       "<div>\n",
       "<style scoped>\n",
       "    .dataframe tbody tr th:only-of-type {\n",
       "        vertical-align: middle;\n",
       "    }\n",
       "\n",
       "    .dataframe tbody tr th {\n",
       "        vertical-align: top;\n",
       "    }\n",
       "\n",
       "    .dataframe thead th {\n",
       "        text-align: right;\n",
       "    }\n",
       "</style>\n",
       "<table border=\"1\" class=\"dataframe\">\n",
       "  <thead>\n",
       "    <tr style=\"text-align: right;\">\n",
       "      <th></th>\n",
       "      <th>semana</th>\n",
       "      <th>scripts_feitos_no_periodo</th>\n",
       "      <th>pessoas</th>\n",
       "      <th>acumulado</th>\n",
       "      <th>media_script_semanal_por_pessoa</th>\n",
       "      <th>Unnamed: 7</th>\n",
       "      <th>Unnamed: 8</th>\n",
       "      <th>Unnamed: 9</th>\n",
       "      <th>Unnamed: 10</th>\n",
       "    </tr>\n",
       "    <tr>\n",
       "      <th>index</th>\n",
       "      <th></th>\n",
       "      <th></th>\n",
       "      <th></th>\n",
       "      <th></th>\n",
       "      <th></th>\n",
       "      <th></th>\n",
       "      <th></th>\n",
       "      <th></th>\n",
       "      <th></th>\n",
       "    </tr>\n",
       "  </thead>\n",
       "  <tbody>\n",
       "    <tr>\n",
       "      <th>1</th>\n",
       "      <td>1</td>\n",
       "      <td>0</td>\n",
       "      <td>1</td>\n",
       "      <td>0</td>\n",
       "      <td>0.0</td>\n",
       "      <td>NaN</td>\n",
       "      <td>NaN</td>\n",
       "      <td>NaN</td>\n",
       "      <td>NaN</td>\n",
       "    </tr>\n",
       "    <tr>\n",
       "      <th>2</th>\n",
       "      <td>2</td>\n",
       "      <td>11</td>\n",
       "      <td>1</td>\n",
       "      <td>11</td>\n",
       "      <td>3.0</td>\n",
       "      <td>NaN</td>\n",
       "      <td>NaN</td>\n",
       "      <td>NaN</td>\n",
       "      <td>NaN</td>\n",
       "    </tr>\n",
       "    <tr>\n",
       "      <th>3</th>\n",
       "      <td>3</td>\n",
       "      <td>12</td>\n",
       "      <td>1</td>\n",
       "      <td>12</td>\n",
       "      <td>8.0</td>\n",
       "      <td>NaN</td>\n",
       "      <td>NaN</td>\n",
       "      <td>NaN</td>\n",
       "      <td>NaN</td>\n",
       "    </tr>\n",
       "    <tr>\n",
       "      <th>4</th>\n",
       "      <td>4</td>\n",
       "      <td>38</td>\n",
       "      <td>1</td>\n",
       "      <td>50</td>\n",
       "      <td>19.0</td>\n",
       "      <td>NaN</td>\n",
       "      <td>NaN</td>\n",
       "      <td>NaN</td>\n",
       "      <td>NaN</td>\n",
       "    </tr>\n",
       "    <tr>\n",
       "      <th>5</th>\n",
       "      <td>5</td>\n",
       "      <td>27</td>\n",
       "      <td>1</td>\n",
       "      <td>77</td>\n",
       "      <td>13.5</td>\n",
       "      <td>NaN</td>\n",
       "      <td>NaN</td>\n",
       "      <td>NaN</td>\n",
       "      <td>NaN</td>\n",
       "    </tr>\n",
       "    <tr>\n",
       "      <th>6</th>\n",
       "      <td>6</td>\n",
       "      <td>14</td>\n",
       "      <td>2</td>\n",
       "      <td>91</td>\n",
       "      <td>3.5</td>\n",
       "      <td>NaN</td>\n",
       "      <td>NaN</td>\n",
       "      <td>NaN</td>\n",
       "      <td>NaN</td>\n",
       "    </tr>\n",
       "    <tr>\n",
       "      <th>7</th>\n",
       "      <td>7</td>\n",
       "      <td>66</td>\n",
       "      <td>2</td>\n",
       "      <td>157</td>\n",
       "      <td>16.5</td>\n",
       "      <td>NaN</td>\n",
       "      <td>NaN</td>\n",
       "      <td>NaN</td>\n",
       "      <td>NaN</td>\n",
       "    </tr>\n",
       "    <tr>\n",
       "      <th>8</th>\n",
       "      <td>8</td>\n",
       "      <td>18</td>\n",
       "      <td>2</td>\n",
       "      <td>175</td>\n",
       "      <td>4.5</td>\n",
       "      <td>NaN</td>\n",
       "      <td>NaN</td>\n",
       "      <td>NaN</td>\n",
       "      <td>NaN</td>\n",
       "    </tr>\n",
       "    <tr>\n",
       "      <th>9</th>\n",
       "      <td>9</td>\n",
       "      <td>50</td>\n",
       "      <td>2</td>\n",
       "      <td>225</td>\n",
       "      <td>12.5</td>\n",
       "      <td>NaN</td>\n",
       "      <td>NaN</td>\n",
       "      <td>NaN</td>\n",
       "      <td>NaN</td>\n",
       "    </tr>\n",
       "    <tr>\n",
       "      <th>10</th>\n",
       "      <td>10</td>\n",
       "      <td>20</td>\n",
       "      <td>2</td>\n",
       "      <td>245</td>\n",
       "      <td>10.0</td>\n",
       "      <td>NaN</td>\n",
       "      <td>NaN</td>\n",
       "      <td>NaN</td>\n",
       "      <td>NaN</td>\n",
       "    </tr>\n",
       "    <tr>\n",
       "      <th>11</th>\n",
       "      <td>11</td>\n",
       "      <td>44</td>\n",
       "      <td>2</td>\n",
       "      <td>289</td>\n",
       "      <td>22.0</td>\n",
       "      <td>NaN</td>\n",
       "      <td>NaN</td>\n",
       "      <td>NaN</td>\n",
       "      <td>NaN</td>\n",
       "    </tr>\n",
       "    <tr>\n",
       "      <th>12</th>\n",
       "      <td>12</td>\n",
       "      <td>49</td>\n",
       "      <td>2</td>\n",
       "      <td>338</td>\n",
       "      <td>24.0</td>\n",
       "      <td>NaN</td>\n",
       "      <td>NaN</td>\n",
       "      <td>NaN</td>\n",
       "      <td>NaN</td>\n",
       "    </tr>\n",
       "  </tbody>\n",
       "</table>\n",
       "</div>"
      ],
      "text/plain": [
       "       semana  scripts_feitos_no_periodo  pessoas  acumulado  \\\n",
       "index                                                          \n",
       "1           1                          0        1          0   \n",
       "2           2                         11        1         11   \n",
       "3           3                         12        1         12   \n",
       "4           4                         38        1         50   \n",
       "5           5                         27        1         77   \n",
       "6           6                         14        2         91   \n",
       "7           7                         66        2        157   \n",
       "8           8                         18        2        175   \n",
       "9           9                         50        2        225   \n",
       "10         10                         20        2        245   \n",
       "11         11                         44        2        289   \n",
       "12         12                         49        2        338   \n",
       "\n",
       "       media_script_semanal_por_pessoa  Unnamed: 7  Unnamed: 8  Unnamed: 9  \\\n",
       "index                                                                        \n",
       "1                                  0.0         NaN         NaN         NaN   \n",
       "2                                  3.0         NaN         NaN         NaN   \n",
       "3                                  8.0         NaN         NaN         NaN   \n",
       "4                                 19.0         NaN         NaN         NaN   \n",
       "5                                 13.5         NaN         NaN         NaN   \n",
       "6                                  3.5         NaN         NaN         NaN   \n",
       "7                                 16.5         NaN         NaN         NaN   \n",
       "8                                  4.5         NaN         NaN         NaN   \n",
       "9                                 12.5         NaN         NaN         NaN   \n",
       "10                                10.0         NaN         NaN         NaN   \n",
       "11                                22.0         NaN         NaN         NaN   \n",
       "12                                24.0         NaN         NaN         NaN   \n",
       "\n",
       "       Unnamed: 10  \n",
       "index               \n",
       "1              NaN  \n",
       "2              NaN  \n",
       "3              NaN  \n",
       "4              NaN  \n",
       "5              NaN  \n",
       "6              NaN  \n",
       "7              NaN  \n",
       "8              NaN  \n",
       "9              NaN  \n",
       "10             NaN  \n",
       "11             NaN  \n",
       "12             NaN  "
      ]
     },
     "execution_count": 10,
     "metadata": {},
     "output_type": "execute_result"
    }
   ],
   "source": [
    "df"
   ]
  },
  {
   "cell_type": "markdown",
   "metadata": {},
   "source": [
    "Ajustando a média quinzenal em 'media_script_semanal_por_pessoa'"
   ]
  },
  {
   "cell_type": "code",
   "execution_count": 11,
   "metadata": {},
   "outputs": [],
   "source": [
    "df['media_script_semanal_por_pessoa'] = df['media_script_semanal_por_pessoa'] * 2"
   ]
  },
  {
   "cell_type": "code",
   "execution_count": 12,
   "metadata": {},
   "outputs": [],
   "source": [
    "# AS VEZES TEMOS A NECESSIDADE DE RETIRAR COLUNAS VAZIAS\n",
    "df = df.drop(['Unnamed: 7', 'Unnamed: 8', 'Unnamed: 9', 'Unnamed: 10'], axis=1)"
   ]
  },
  {
   "cell_type": "code",
   "execution_count": 13,
   "metadata": {},
   "outputs": [
    {
     "data": {
      "text/html": [
       "<div>\n",
       "<style scoped>\n",
       "    .dataframe tbody tr th:only-of-type {\n",
       "        vertical-align: middle;\n",
       "    }\n",
       "\n",
       "    .dataframe tbody tr th {\n",
       "        vertical-align: top;\n",
       "    }\n",
       "\n",
       "    .dataframe thead th {\n",
       "        text-align: right;\n",
       "    }\n",
       "</style>\n",
       "<table border=\"1\" class=\"dataframe\">\n",
       "  <thead>\n",
       "    <tr style=\"text-align: right;\">\n",
       "      <th></th>\n",
       "      <th>semana</th>\n",
       "      <th>scripts_feitos_no_periodo</th>\n",
       "      <th>pessoas</th>\n",
       "      <th>acumulado</th>\n",
       "      <th>media_script_semanal_por_pessoa</th>\n",
       "    </tr>\n",
       "    <tr>\n",
       "      <th>index</th>\n",
       "      <th></th>\n",
       "      <th></th>\n",
       "      <th></th>\n",
       "      <th></th>\n",
       "      <th></th>\n",
       "    </tr>\n",
       "  </thead>\n",
       "  <tbody>\n",
       "    <tr>\n",
       "      <th>1</th>\n",
       "      <td>1</td>\n",
       "      <td>0</td>\n",
       "      <td>1</td>\n",
       "      <td>0</td>\n",
       "      <td>0.0</td>\n",
       "    </tr>\n",
       "    <tr>\n",
       "      <th>2</th>\n",
       "      <td>2</td>\n",
       "      <td>11</td>\n",
       "      <td>1</td>\n",
       "      <td>11</td>\n",
       "      <td>6.0</td>\n",
       "    </tr>\n",
       "    <tr>\n",
       "      <th>3</th>\n",
       "      <td>3</td>\n",
       "      <td>12</td>\n",
       "      <td>1</td>\n",
       "      <td>12</td>\n",
       "      <td>16.0</td>\n",
       "    </tr>\n",
       "    <tr>\n",
       "      <th>4</th>\n",
       "      <td>4</td>\n",
       "      <td>38</td>\n",
       "      <td>1</td>\n",
       "      <td>50</td>\n",
       "      <td>38.0</td>\n",
       "    </tr>\n",
       "    <tr>\n",
       "      <th>5</th>\n",
       "      <td>5</td>\n",
       "      <td>27</td>\n",
       "      <td>1</td>\n",
       "      <td>77</td>\n",
       "      <td>27.0</td>\n",
       "    </tr>\n",
       "    <tr>\n",
       "      <th>6</th>\n",
       "      <td>6</td>\n",
       "      <td>14</td>\n",
       "      <td>2</td>\n",
       "      <td>91</td>\n",
       "      <td>7.0</td>\n",
       "    </tr>\n",
       "    <tr>\n",
       "      <th>7</th>\n",
       "      <td>7</td>\n",
       "      <td>66</td>\n",
       "      <td>2</td>\n",
       "      <td>157</td>\n",
       "      <td>33.0</td>\n",
       "    </tr>\n",
       "    <tr>\n",
       "      <th>8</th>\n",
       "      <td>8</td>\n",
       "      <td>18</td>\n",
       "      <td>2</td>\n",
       "      <td>175</td>\n",
       "      <td>9.0</td>\n",
       "    </tr>\n",
       "    <tr>\n",
       "      <th>9</th>\n",
       "      <td>9</td>\n",
       "      <td>50</td>\n",
       "      <td>2</td>\n",
       "      <td>225</td>\n",
       "      <td>25.0</td>\n",
       "    </tr>\n",
       "    <tr>\n",
       "      <th>10</th>\n",
       "      <td>10</td>\n",
       "      <td>20</td>\n",
       "      <td>2</td>\n",
       "      <td>245</td>\n",
       "      <td>20.0</td>\n",
       "    </tr>\n",
       "    <tr>\n",
       "      <th>11</th>\n",
       "      <td>11</td>\n",
       "      <td>44</td>\n",
       "      <td>2</td>\n",
       "      <td>289</td>\n",
       "      <td>44.0</td>\n",
       "    </tr>\n",
       "    <tr>\n",
       "      <th>12</th>\n",
       "      <td>12</td>\n",
       "      <td>49</td>\n",
       "      <td>2</td>\n",
       "      <td>338</td>\n",
       "      <td>48.0</td>\n",
       "    </tr>\n",
       "  </tbody>\n",
       "</table>\n",
       "</div>"
      ],
      "text/plain": [
       "       semana  scripts_feitos_no_periodo  pessoas  acumulado  \\\n",
       "index                                                          \n",
       "1           1                          0        1          0   \n",
       "2           2                         11        1         11   \n",
       "3           3                         12        1         12   \n",
       "4           4                         38        1         50   \n",
       "5           5                         27        1         77   \n",
       "6           6                         14        2         91   \n",
       "7           7                         66        2        157   \n",
       "8           8                         18        2        175   \n",
       "9           9                         50        2        225   \n",
       "10         10                         20        2        245   \n",
       "11         11                         44        2        289   \n",
       "12         12                         49        2        338   \n",
       "\n",
       "       media_script_semanal_por_pessoa  \n",
       "index                                   \n",
       "1                                  0.0  \n",
       "2                                  6.0  \n",
       "3                                 16.0  \n",
       "4                                 38.0  \n",
       "5                                 27.0  \n",
       "6                                  7.0  \n",
       "7                                 33.0  \n",
       "8                                  9.0  \n",
       "9                                 25.0  \n",
       "10                                20.0  \n",
       "11                                44.0  \n",
       "12                                48.0  "
      ]
     },
     "execution_count": 13,
     "metadata": {},
     "output_type": "execute_result"
    }
   ],
   "source": [
    "df"
   ]
  },
  {
   "cell_type": "code",
   "execution_count": 14,
   "metadata": {},
   "outputs": [
    {
     "data": {
      "image/png": "[encoded data removed]",
      "text/plain": [
       "<Figure size 1040x715 with 1 Axes>"
      ]
     },
     "metadata": {},
     "output_type": "display_data"
    }
   ],
   "source": [
    "plt.scatter(df['semana'], df['acumulado'])\n",
    "plt.xlabel('Quinzena')\n",
    "plt.ylabel('Total acumulado')\n",
    "plt.show()"
   ]
  },
  {
   "cell_type": "markdown",
   "metadata": {},
   "source": [
    "# Extrapolando Modelo para as Semanas (ou quinzena) ate atingir 520 scripts "
   ]
  },
  {
   "cell_type": "code",
   "execution_count": 15,
   "metadata": {},
   "outputs": [],
   "source": [
    "import pickle"
   ]
  },
  {
   "cell_type": "code",
   "execution_count": 16,
   "metadata": {},
   "outputs": [],
   "source": [
    "filename = 'modelo_treinado_v1.sav'"
   ]
  },
  {
   "cell_type": "code",
   "execution_count": 17,
   "metadata": {},
   "outputs": [],
   "source": [
    "loaded_model = pickle.load(open(filename, 'rb'))"
   ]
  },
  {
   "cell_type": "code",
   "execution_count": 18,
   "metadata": {},
   "outputs": [],
   "source": [
    "#resultado1 = loaded_model.predict(X_teste)"
   ]
  },
  {
   "cell_type": "code",
   "execution_count": 19,
   "metadata": {},
   "outputs": [
    {
     "name": "stdout",
     "output_type": "stream",
     "text": [
      "          semana  scripts_feitos_no_periodo    pessoas   acumulado  \\\n",
      "count  12.000000                  12.000000  12.000000   12.000000   \n",
      "mean    6.500000                  29.083333   1.583333  139.166667   \n",
      "std     3.605551                  20.002083   0.514929  116.093875   \n",
      "min     1.000000                   0.000000   1.000000    0.000000   \n",
      "25%     3.750000                  13.500000   1.000000   40.500000   \n",
      "50%     6.500000                  23.500000   2.000000  124.000000   \n",
      "75%     9.250000                  45.250000   2.000000  230.000000   \n",
      "max    12.000000                  66.000000   2.000000  338.000000   \n",
      "\n",
      "       media_script_semanal_por_pessoa  \n",
      "count                        12.000000  \n",
      "mean                         22.750000  \n",
      "std                          15.777573  \n",
      "min                           0.000000  \n",
      "25%                           8.500000  \n",
      "50%                          22.500000  \n",
      "75%                          34.250000  \n",
      "max                          48.000000  \n"
     ]
    }
   ],
   "source": [
    "print(df.describe())"
   ]
  },
  {
   "cell_type": "code",
   "execution_count": 20,
   "metadata": {},
   "outputs": [],
   "source": [
    "semana_inicio = 13\n",
    "semana_limite = 22\n",
    "meta_scripts = 520"
   ]
  },
  {
   "cell_type": "code",
   "execution_count": 22,
   "metadata": {},
   "outputs": [
    {
     "name": "stdout",
     "output_type": "stream",
     "text": [
      "Semana 13\n",
      "371\n",
      "Semana 14\n",
      "414\n",
      "Semana 15\n",
      "457\n",
      "Semana 16\n",
      "500\n",
      "Semana 17\n",
      "543\n"
     ]
    }
   ],
   "source": [
    "predicao_scripts = []\n",
    "predicao_array = []\n",
    "semanas_range = []\n",
    "\n",
    "#eg.predict(np.array([[13, 1, 8,16]]))\n",
    "\n",
    "# (np.array([predicao_scripts]))\n",
    "\n",
    "for k in range(semana_inicio, semana_limite  ):\n",
    "    \n",
    "    # predicao_scripts= reg.predict(np.array([[k, 2, 8,16]]))  \n",
    "    # Colocado a média de scripts quinzenal para 2 pessoas que é 20.\n",
    "    \n",
    "    predicao_scripts = loaded_model.predict(np.array([[k, 2, 20,24]]))\n",
    "    \n",
    "    semanas_range.append(k)\n",
    "    predicao_array.append(int(predicao_scripts[0]))\n",
    "    print(\"Semana \" + str(k) )\n",
    "    print(int(predicao_scripts[0]))\n",
    "    if int(predicao_scripts[0]) >= 520:\n",
    "        break"
   ]
  },
  {
   "cell_type": "raw",
   "metadata": {},
   "source": [
    "# Plotagem"
   ]
  },
  {
   "cell_type": "code",
   "execution_count": 23,
   "metadata": {},
   "outputs": [
    {
     "data": {
      "text/plain": [
       "[13, 14, 15, 16, 17]"
      ]
     },
     "execution_count": 23,
     "metadata": {},
     "output_type": "execute_result"
    }
   ],
   "source": [
    "semanas_range"
   ]
  },
  {
   "cell_type": "code",
   "execution_count": 24,
   "metadata": {},
   "outputs": [
    {
     "data": {
      "text/plain": [
       "[371, 414, 457, 500, 543]"
      ]
     },
     "execution_count": 24,
     "metadata": {},
     "output_type": "execute_result"
    }
   ],
   "source": [
    "predicao_array"
   ]
  },
  {
   "cell_type": "code",
   "execution_count": 25,
   "metadata": {},
   "outputs": [
    {
     "data": {
      "image/png": "[encoded data removed]",
      "text/plain": [
       "<Figure size 1040x715 with 1 Axes>"
      ]
     },
     "metadata": {},
     "output_type": "display_data"
    }
   ],
   "source": [
    "plt.scatter(semanas_range,predicao_array)\n",
    "plt.xlabel('Quinzena')\n",
    "plt.ylabel('Previsão do Total acumulado')\n",
    "plt.show()"
   ]
  },
  {
   "cell_type": "markdown",
   "metadata": {},
   "source": [
    "Fim da Analise\n",
    "\n",
    "https://www.linx.com.br"
   ]
  },
  {
   "cell_type": "markdown",
   "metadata": {
    "collapsed": true
   },
   "source": [
    "# Fim"
   ]
  },
  {
   "cell_type": "markdown",
   "metadata": {
    "collapsed": true
   },
   "source": [
    "### Obrigado\n",
    "\n",
    "### Visite a Linx - <a href=\"http://linx.com.br\">Site da Linx</a>"
   ]
  },
  {
   "cell_type": "code",
   "execution_count": null,
   "metadata": {},
   "outputs": [],
   "source": []
  },
  {
   "cell_type": "code",
   "execution_count": null,
   "metadata": {},
   "outputs": [],
   "source": []
  }
 ],
 "metadata": {
  "kernelspec": {
   "display_name": "Python 3 (ipykernel)",
   "language": "python",
   "name": "python3"
  },
  "language_info": {
   "codemirror_mode": {
    "name": "ipython",
    "version": 3
   },
   "file_extension": ".py",
   "mimetype": "text/x-python",
   "name": "python",
   "nbconvert_exporter": "python",
   "pygments_lexer": "ipython3",
   "version": "3.7.13"
  }
 },
 "nbformat": 4,
 "nbformat_minor": 1
}
